{
  "nbformat": 4,
  "nbformat_minor": 0,
  "metadata": {
    "colab": {
      "provenance": [],
      "authorship_tag": "ABX9TyNR2APHPM05gtDLlCkEpRbc",
      "include_colab_link": true
    },
    "kernelspec": {
      "name": "python3",
      "display_name": "Python 3"
    },
    "language_info": {
      "name": "python"
    }
  },
  "cells": [
    {
      "cell_type": "markdown",
      "metadata": {
        "id": "view-in-github",
        "colab_type": "text"
      },
      "source": [
        "<a href=\"https://colab.research.google.com/github/satique01/2026-Travnary/blob/main/2026_Travnary.ipynb\" target=\"_parent\"><img src=\"https://colab.research.google.com/assets/colab-badge.svg\" alt=\"Open In Colab\"/></a>"
      ]
    },
    {
      "cell_type": "code",
      "execution_count": 1,
      "metadata": {
        "id": "f5VI1_iOvVET"
      },
      "outputs": [],
      "source": [
        "import random\n",
        "\n",
        "# Function to gather user inputs\n",
        "def get_user_input():\n",
        "    print(\"Welcome to the Travel Itinerary Generator!\")\n",
        "\n",
        "    # Travel destination\n",
        "    destination = input(\"Where would you like to travel? (e.g., Paris, Tokyo, New York): \").strip()\n",
        "\n",
        "    # Travel duration\n",
        "    duration = int(input(\"How many days will you be traveling? (e.g., 3 days): \").strip())\n",
        "\n",
        "    # Travel interests\n",
        "    print(\"What are your interests? (Choose multiple if you'd like, separate them with commas)\")\n",
        "    print(\"Options: Adventure, Culture, Nature, History, Food, Relaxation\")\n",
        "    interests_input = input(\"Enter your interests: \").strip().split(',')\n",
        "\n",
        "    # Clean up interests (remove extra spaces)\n",
        "    interests = [interest.strip().lower() for interest in interests_input]\n",
        "\n",
        "    return destination, duration, interests\n",
        "\n",
        "# Sample destinations and activities based on interests\n",
        "def generate_itinerary(destination, duration, interests):\n",
        "    activities = {\n",
        "        'adventure': [\"Skydiving\", \"Bungee Jumping\", \"Mountain Hiking\", \"Ziplining\"],\n",
        "        'culture': [\"Museum Tour\", \"Local Art Galleries\", \"Theater Show\", \"Cultural Festival\"],\n",
        "        'nature': [\"Nature Walk\", \"Safari\", \"Beach Relaxation\", \"Forest Exploration\"],\n",
        "        'history': [\"Historical Site Visit\", \"Ancient Ruins\", \"Monuments Tour\", \"War Memorials\"],\n",
        "        'food': [\"Food Tour\", \"Cooking Class\", \"Street Food Sampling\", \"Winery Tour\"],\n",
        "        'relaxation': [\"Spa Day\", \"Beach Lounging\", \"Yoga Retreat\", \"Meditation Sessions\"]\n",
        "    }\n",
        "\n",
        "    # Create a list of all available activities based on user interests\n",
        "    selected_activities = []\n",
        "    for interest in interests:\n",
        "        if interest in activities:\n",
        "            selected_activities.extend(activities[interest])\n",
        "\n",
        "    #\n"
      ]
    }
  ]
}